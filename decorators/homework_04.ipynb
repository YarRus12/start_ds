{
  "nbformat": 4,
  "nbformat_minor": 0,
  "metadata": {
    "colab": {
      "provenance": []
    },
    "kernelspec": {
      "name": "python3",
      "display_name": "Python 3"
    },
    "language_info": {
      "name": "python"
    }
  },
  "cells": [
    {
      "cell_type": "markdown",
      "source": [
        "# Домашнее задание: декораторы"
      ],
      "metadata": {
        "id": "QY4qPJPpgyIS"
      }
    },
    {
      "cell_type": "markdown",
      "source": [
        "## Импорт библиотек, установка констант"
      ],
      "metadata": {
        "id": "Chacc6YchldZ"
      }
    },
    {
      "cell_type": "code",
      "source": [
        "import requests\n",
        "import time\n",
        "import re\n",
        "\n",
        "from random import randint"
      ],
      "metadata": {
        "id": "w8iKrWvwhrFd"
      },
      "execution_count": 1,
      "outputs": []
    },
    {
      "cell_type": "code",
      "source": [
        "BOOK_PATH = 'https://www.gutenberg.org/files/2638/2638-0.txt'"
      ],
      "metadata": {
        "id": "-LRkS0fSi8Np"
      },
      "execution_count": 2,
      "outputs": []
    },
    {
      "cell_type": "markdown",
      "source": [
        "## Задание 1"
      ],
      "metadata": {
        "id": "kARfL8ifg4MH"
      }
    },
    {
      "cell_type": "code",
      "execution_count": 3,
      "metadata": {
        "id": "hNHNWPhngrUl"
      },
      "outputs": [],
      "source": [
        "import time\n",
        "\n",
        "\n",
        "def benchmark(func):\n",
        "    \"\"\"\n",
        "    Декоратор, выводящий время, которое заняло выполнение декорируемой функции\n",
        "    \"\"\"\n",
        "\n",
        "    def wrapper(*args, **kwargs):\n",
        "        start = time.perf_counter()\n",
        "        result = func(*args, **kwargs)\n",
        "        end = time.perf_counter()\n",
        "        print(f'{func.__name__} потребовалось {end - start:.6f} секунд')\n",
        "        return result\n",
        "\n",
        "    return wrapper\n"
      ]
    },
    {
      "cell_type": "markdown",
      "source": [
        "## Задание 2"
      ],
      "metadata": {
        "id": "tGlbUKjihL5n"
      }
    },
    {
      "cell_type": "code",
      "source": [
        "def logging(func):\n",
        "    \"\"\"\n",
        "    Декоратор, который выводит параметры с которыми была вызвана функция\n",
        "    \"\"\"\n",
        "\n",
        "    def wrapper(*args, **kwargs):\n",
        "        arg_str = ', '.join(repr(arg) for arg in args)\n",
        "        if arg_str != '':\n",
        "            print(f'Аргументы функции {func.__name__}: {arg_str}')\n",
        "        else:\n",
        "            print(f'Функции {func.__name__} вызвана без аргументов')\n",
        "        result = func(*args, **kwargs)\n",
        "        return result\n",
        "    return wrapper\n",
        "\n"
      ],
      "metadata": {
        "id": "wugOZDLqhNe-"
      },
      "execution_count": 4,
      "outputs": []
    },
    {
      "cell_type": "markdown",
      "source": [
        "## Задание 3"
      ],
      "metadata": {
        "id": "Sq1tv5fshTfv"
      }
    },
    {
      "cell_type": "code",
      "source": [
        "def counter(func):\n",
        "    \"\"\"\n",
        "    Декоратор, считающий и выводящий количество вызовов декорируемой функции\n",
        "    \"\"\"\n",
        "\n",
        "    def wrapper(*args, **kwargs):\n",
        "        wrapper.calls += 1\n",
        "        print(f\"Функция '{func.__name__}' вызвана {wrapper.calls} раз.\")\n",
        "        return func(*args, **kwargs), wrapper.calls\n",
        "\n",
        "    wrapper.calls = 0\n",
        "    return wrapper\n"
      ],
      "metadata": {
        "id": "9nyvuxXkhVeb"
      },
      "execution_count": 5,
      "outputs": []
    },
    {
      "cell_type": "markdown",
      "source": [
        "## Задание 4"
      ],
      "metadata": {
        "id": "uHn8Adfshz5q"
      }
    },
    {
      "cell_type": "code",
      "source": [
        "from functools import wraps\n",
        "import typing\n",
        "\n",
        "\n",
        "def memo(func):\n",
        "    \"\"\"\n",
        "    Декоратор, запоминающий результаты исполнения функции func, чьи аргументы args должны быть хешируемыми\n",
        "    \"\"\"\n",
        "\n",
        "    @wraps(func)\n",
        "    def fmemo(*args):\n",
        "        if all(isinstance(arg, typing.Hashable) for arg in args):\n",
        "            if args in fmemo.cache:\n",
        "                result = fmemo.cache[args]\n",
        "            else:\n",
        "                result = fmemo.cache[args] = func(*args)\n",
        "            return result\n",
        "        else:\n",
        "            return func(*args)\n",
        "\n",
        "    fmemo.cache = {}\n",
        "    return fmemo\n"
      ],
      "metadata": {
        "id": "R7uu6WtGifNX"
      },
      "execution_count": 21,
      "outputs": []
    },
    {
      "cell_type": "markdown",
      "source": [
        "## Тестирование"
      ],
      "metadata": {
        "id": "Zn5UQCa_izxo"
      }
    },
    {
      "cell_type": "code",
      "source": [
        "@counter\n",
        "@logging\n",
        "@benchmark\n",
        "def word_count(word, url=BOOK_PATH):\n",
        "    \"\"\"\n",
        "    Функция для посчета указанного слова на html-странице\n",
        "    \"\"\"\n",
        "\n",
        "    # отправляем запрос в библиотеку Gutenberg и забираем текст\n",
        "    raw = requests.get(url).text\n",
        "\n",
        "    # заменяем в тексте все небуквенные символы на пробелы\n",
        "    processed_book = re.sub('[\\W]+' , ' ', raw).lower()\n",
        "\n",
        "    # считаем\n",
        "    cnt = len(re.findall(word.lower(), processed_book))\n",
        "\n",
        "    return f\"Cлово {word} встречается {cnt} раз\"\n",
        "\n",
        "print(word_count('whole'))"
      ],
      "metadata": {
        "id": "CHCJ64I8i2QB",
        "outputId": "f09069fb-1153-41e3-9b06-84979a4468c6",
        "colab": {
          "base_uri": "https://localhost:8080/"
        }
      },
      "execution_count": 22,
      "outputs": [
        {
          "output_type": "stream",
          "name": "stdout",
          "text": [
            "Функция 'wrapper' вызвана 1 раз.\n",
            "Аргументы функции wrapper: 'whole'\n",
            "word_count потребовалось 0.931126 секунд\n",
            "('Cлово whole встречается 176 раз', 1)\n"
          ]
        }
      ]
    },
    {
      "cell_type": "code",
      "source": [
        "def fib(n):\n",
        "    if n < 2:\n",
        "        return n\n",
        "    return fib(n-2) + fib(n-1)"
      ],
      "metadata": {
        "id": "ZE4Rfn-hh3k3"
      },
      "execution_count": 38,
      "outputs": []
    },
    {
      "cell_type": "code",
      "source": [
        "# измеряем время выполнения\n",
        "@benchmark\n",
        "def call():\n",
        "  fib(30)\n",
        "call()"
      ],
      "metadata": {
        "id": "Io94NyjiiXG4",
        "outputId": "a820d0bb-7c8e-4b78-d3ac-94d875a8c052",
        "colab": {
          "base_uri": "https://localhost:8080/"
        }
      },
      "execution_count": 43,
      "outputs": [
        {
          "output_type": "stream",
          "name": "stdout",
          "text": [
            "call потребовалось 0.348126 секунд\n"
          ]
        }
      ]
    },
    {
      "cell_type": "code",
      "source": [
        "@memo\n",
        "def fib(n):\n",
        "    if n < 2:\n",
        "        return n\n",
        "    return fib(n-2) + fib(n-1)"
      ],
      "metadata": {
        "id": "W9B3e-t9iTUj"
      },
      "execution_count": 44,
      "outputs": []
    },
    {
      "cell_type": "code",
      "source": [
        "# измеряем время выполнения\n",
        "@benchmark\n",
        "def call():\n",
        "  fib(30)\n",
        "call()"
      ],
      "metadata": {
        "id": "Sk6_4KQaidkh",
        "outputId": "42f8f5ab-e25c-4070-a720-fe17ade50a0a",
        "colab": {
          "base_uri": "https://localhost:8080/"
        }
      },
      "execution_count": 45,
      "outputs": [
        {
          "output_type": "stream",
          "name": "stdout",
          "text": [
            "call потребовалось 0.000261 секунд\n"
          ]
        }
      ]
    }
  ]
}